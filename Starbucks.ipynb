{
 "cells": [
  {
   "cell_type": "markdown",
   "metadata": {},
   "source": [
    "## Portfolio Exercise: Starbucks\n",
    "<br>\n",
    "\n",
    "<img src=\"https://opj.ca/wp-content/uploads/2018/02/New-Starbucks-Logo-1200x969.jpg\" width=\"200\" height=\"200\">\n",
    "<br>\n",
    "<br>\n",
    " \n",
    "#### Background Information\n",
    "\n",
    "The dataset you will be provided in this portfolio exercise was originally used as a take-home assignment provided by Starbucks for their job candidates. The data for this exercise consists of about 120,000 data points split in a 2:1 ratio among training and test files. In the experiment simulated by the data, an advertising promotion was tested to see if it would bring more customers to purchase a specific product priced at $10. Since it costs the company 0.15 to send out each promotion, it would be best to limit that promotion only to those that are most receptive to the promotion. Each data point includes one column indicating whether or not an individual was sent a promotion for the product, and one column indicating whether or not that individual eventually purchased that product. Each individual also has seven additional features associated with them, which are provided abstractly as V1-V7.\n",
    "\n",
    "#### Optimization Strategy\n",
    "\n",
    "Your task is to use the training data to understand what patterns in V1-V7 to indicate that a promotion should be provided to a user. Specifically, your goal is to maximize the following metrics:\n",
    "\n",
    "* **Incremental Response Rate (IRR)** \n",
    "\n",
    "IRR depicts how many more customers purchased the product with the promotion, as compared to if they didn't receive the promotion. Mathematically, it's the ratio of the number of purchasers in the promotion group to the total number of customers in the purchasers group (_treatment_) minus the ratio of the number of purchasers in the non-promotional group to the total number of customers in the non-promotional group (_control_).\n",
    "\n",
    "$$ IRR = \\frac{purch_{treat}}{cust_{treat}} - \\frac{purch_{ctrl}}{cust_{ctrl}} $$\n",
    "\n",
    "\n",
    "* **Net Incremental Revenue (NIR)**\n",
    "\n",
    "NIR depicts how much is made (or lost) by sending out the promotion. Mathematically, this is 10 times the total number of purchasers that received the promotion minus 0.15 times the number of promotions sent out, minus 10 times the number of purchasers who were not given the promotion.\n",
    "\n",
    "$$ NIR = (10\\cdot purch_{treat} - 0.15 \\cdot cust_{treat}) - 10 \\cdot purch_{ctrl}$$\n",
    "\n",
    "For a full description of what Starbucks provides to candidates see the [instructions available here](https://drive.google.com/open?id=18klca9Sef1Rs6q8DW4l7o349r8B70qXM).\n",
    "\n",
    "Below you can find the training data provided.  Explore the data and different optimization strategies.\n",
    "\n",
    "#### How To Test Your Strategy?\n",
    "\n",
    "When you feel like you have an optimization strategy, complete the `promotion_strategy` function to pass to the `test_results` function.  \n",
    "From past data, we know there are four possible outomes:\n",
    "\n",
    "Table of actual promotion vs. predicted promotion customers:  \n",
    "\n",
    "<table>\n",
    "<tr><th></th><th colspan = '2'>Actual</th></tr>\n",
    "<tr><th>Predicted</th><th>Yes</th><th>No</th></tr>\n",
    "<tr><th>Yes</th><td>I</td><td>II</td></tr>\n",
    "<tr><th>No</th><td>III</td><td>IV</td></tr>\n",
    "</table>\n",
    "\n",
    "The metrics are only being compared for the individuals we predict should obtain the promotion – that is, quadrants I and II.  Since the first set of individuals that receive the promotion (in the training set) receive it randomly, we can expect that quadrants I and II will have approximately equivalent participants.  \n",
    "\n",
    "Comparing quadrant I to II then gives an idea of how well your promotion strategy will work in the future. \n",
    "\n",
    "Get started by reading in the data below.  See how each variable or combination of variables along with a promotion influences the chance of purchasing.  When you feel like you have a strategy for who should receive a promotion, test your strategy against the test dataset used in the final `test_results` function."
   ]
  },
  {
   "cell_type": "code",
   "execution_count": 123,
   "metadata": {},
   "outputs": [
    {
     "data": {
      "text/html": [
       "<div>\n",
       "<style scoped>\n",
       "    .dataframe tbody tr th:only-of-type {\n",
       "        vertical-align: middle;\n",
       "    }\n",
       "\n",
       "    .dataframe tbody tr th {\n",
       "        vertical-align: top;\n",
       "    }\n",
       "\n",
       "    .dataframe thead th {\n",
       "        text-align: right;\n",
       "    }\n",
       "</style>\n",
       "<table border=\"1\" class=\"dataframe\">\n",
       "  <thead>\n",
       "    <tr style=\"text-align: right;\">\n",
       "      <th></th>\n",
       "      <th>ID</th>\n",
       "      <th>Promotion</th>\n",
       "      <th>purchase</th>\n",
       "      <th>V1</th>\n",
       "      <th>V2</th>\n",
       "      <th>V3</th>\n",
       "      <th>V4</th>\n",
       "      <th>V5</th>\n",
       "      <th>V6</th>\n",
       "      <th>V7</th>\n",
       "    </tr>\n",
       "  </thead>\n",
       "  <tbody>\n",
       "    <tr>\n",
       "      <th>0</th>\n",
       "      <td>1</td>\n",
       "      <td>No</td>\n",
       "      <td>0</td>\n",
       "      <td>2</td>\n",
       "      <td>30.443518</td>\n",
       "      <td>-1.165083</td>\n",
       "      <td>1</td>\n",
       "      <td>1</td>\n",
       "      <td>3</td>\n",
       "      <td>2</td>\n",
       "    </tr>\n",
       "    <tr>\n",
       "      <th>1</th>\n",
       "      <td>3</td>\n",
       "      <td>No</td>\n",
       "      <td>0</td>\n",
       "      <td>3</td>\n",
       "      <td>32.159350</td>\n",
       "      <td>-0.645617</td>\n",
       "      <td>2</td>\n",
       "      <td>3</td>\n",
       "      <td>2</td>\n",
       "      <td>2</td>\n",
       "    </tr>\n",
       "    <tr>\n",
       "      <th>2</th>\n",
       "      <td>4</td>\n",
       "      <td>No</td>\n",
       "      <td>0</td>\n",
       "      <td>2</td>\n",
       "      <td>30.431659</td>\n",
       "      <td>0.133583</td>\n",
       "      <td>1</td>\n",
       "      <td>1</td>\n",
       "      <td>4</td>\n",
       "      <td>2</td>\n",
       "    </tr>\n",
       "    <tr>\n",
       "      <th>3</th>\n",
       "      <td>5</td>\n",
       "      <td>No</td>\n",
       "      <td>0</td>\n",
       "      <td>0</td>\n",
       "      <td>26.588914</td>\n",
       "      <td>-0.212728</td>\n",
       "      <td>2</td>\n",
       "      <td>1</td>\n",
       "      <td>4</td>\n",
       "      <td>2</td>\n",
       "    </tr>\n",
       "    <tr>\n",
       "      <th>4</th>\n",
       "      <td>8</td>\n",
       "      <td>Yes</td>\n",
       "      <td>0</td>\n",
       "      <td>3</td>\n",
       "      <td>28.044332</td>\n",
       "      <td>-0.385883</td>\n",
       "      <td>1</td>\n",
       "      <td>1</td>\n",
       "      <td>2</td>\n",
       "      <td>2</td>\n",
       "    </tr>\n",
       "  </tbody>\n",
       "</table>\n",
       "</div>"
      ],
      "text/plain": [
       "   ID Promotion  purchase  V1         V2        V3  V4  V5  V6  V7\n",
       "0   1        No         0   2  30.443518 -1.165083   1   1   3   2\n",
       "1   3        No         0   3  32.159350 -0.645617   2   3   2   2\n",
       "2   4        No         0   2  30.431659  0.133583   1   1   4   2\n",
       "3   5        No         0   0  26.588914 -0.212728   2   1   4   2\n",
       "4   8       Yes         0   3  28.044332 -0.385883   1   1   2   2"
      ]
     },
     "execution_count": 123,
     "metadata": {},
     "output_type": "execute_result"
    }
   ],
   "source": [
    "# load in packages\n",
    "from itertools import combinations\n",
    "\n",
    "from test_results import test_results, score\n",
    "import numpy as np\n",
    "import pandas as pd\n",
    "import scipy as sp\n",
    "import sklearn as sk\n",
    "from sklearn import preprocessing\n",
    "from sklearn.model_selection import train_test_split\n",
    "from sklearn.ensemble import GradientBoostingClassifier\n",
    "from sklearn.metrics import confusion_matrix\n",
    "\n",
    "import matplotlib.pyplot as plt\n",
    "import seaborn as sb\n",
    "%matplotlib inline\n",
    "\n",
    "# load in the data\n",
    "train_data = pd.read_csv('./training.csv')\n",
    "train_data.head()"
   ]
  },
  {
   "cell_type": "markdown",
   "metadata": {},
   "source": [
    "The provided data include user id, promotion (yes/no), purchase (1/0) and 7 unknown parameters(V1, V4, V5, V6 and V7 are categorical data; V2 and V3 are numeric)."
   ]
  },
  {
   "cell_type": "markdown",
   "metadata": {},
   "source": [
    "## Data Exploration"
   ]
  },
  {
   "cell_type": "markdown",
   "metadata": {},
   "source": [
    "The size of the provided data is given:"
   ]
  },
  {
   "cell_type": "code",
   "execution_count": 3,
   "metadata": {},
   "outputs": [
    {
     "data": {
      "text/plain": [
       "(84534, 10)"
      ]
     },
     "execution_count": 3,
     "metadata": {},
     "output_type": "execute_result"
    }
   ],
   "source": [
    "train_data.shape"
   ]
  },
  {
   "cell_type": "markdown",
   "metadata": {},
   "source": [
    "The length of the dataset is 84534 "
   ]
  },
  {
   "cell_type": "code",
   "execution_count": 5,
   "metadata": {},
   "outputs": [
    {
     "data": {
      "text/plain": [
       "(84534, 10)"
      ]
     },
     "execution_count": 5,
     "metadata": {},
     "output_type": "execute_result"
    }
   ],
   "source": [
    "train_data.dropna(how='any').shape"
   ]
  },
  {
   "cell_type": "markdown",
   "metadata": {},
   "source": [
    "The train_data does not include any missing value"
   ]
  },
  {
   "cell_type": "code",
   "execution_count": 8,
   "metadata": {},
   "outputs": [
    {
     "data": {
      "text/plain": [
       "(84534, 10)"
      ]
     },
     "execution_count": 8,
     "metadata": {},
     "output_type": "execute_result"
    }
   ],
   "source": [
    "train_data.drop_duplicates(subset=['ID']).shape"
   ]
  },
  {
   "cell_type": "markdown",
   "metadata": {},
   "source": [
    "The train_data does not include any duplicates"
   ]
  },
  {
   "cell_type": "code",
   "execution_count": 187,
   "metadata": {},
   "outputs": [
    {
     "data": {
      "text/plain": [
       "Promotion\n",
       "No     42170\n",
       "Yes    42364\n",
       "Name: ID, dtype: int64"
      ]
     },
     "execution_count": 187,
     "metadata": {},
     "output_type": "execute_result"
    }
   ],
   "source": [
    "promotion_count = train_data.groupby(['Promotion'])['ID'].count()\n",
    "promotion_count"
   ]
  },
  {
   "cell_type": "code",
   "execution_count": 188,
   "metadata": {},
   "outputs": [
    {
     "data": {
      "text/plain": [
       "purchase\n",
       "0    83494\n",
       "1     1040\n",
       "Name: ID, dtype: int64"
      ]
     },
     "execution_count": 188,
     "metadata": {},
     "output_type": "execute_result"
    }
   ],
   "source": [
    "purchase_count = train_data.groupby(['purchase'])['ID'].count()\n",
    "purchase_count"
   ]
  },
  {
   "cell_type": "code",
   "execution_count": 189,
   "metadata": {},
   "outputs": [
    {
     "data": {
      "text/plain": [
       "Promotion  purchase\n",
       "No         0           41851\n",
       "           1             319\n",
       "Yes        0           41643\n",
       "           1             721\n",
       "Name: ID, dtype: int64"
      ]
     },
     "execution_count": 189,
     "metadata": {},
     "output_type": "execute_result"
    }
   ],
   "source": [
    "promotion_and_purchase_count = train_data.groupby(['Promotion','purchase'])['ID'].count()\n",
    "promotion_and_purchase_count"
   ]
  },
  {
   "cell_type": "markdown",
   "metadata": {},
   "source": [
    "The number of the purchase for experiment group is indeed higher than the control group, but this could be caused by the randomness. The next step is to build up A/B test to test the statistical significance."
   ]
  },
  {
   "cell_type": "markdown",
   "metadata": {},
   "source": [
    "## Get IRR and NIR"
   ]
  },
  {
   "cell_type": "markdown",
   "metadata": {},
   "source": [
    "This project chose IRR and NIR as the evaluation metrics. \n",
    "$$ IRR = \\frac{purch_{treat}}{cust_{treat}} - \\frac{purch_{ctrl}}{cust_{ctrl}} $$\n",
    "$$ NIR = (10\\cdot purch_{treat} - 0.15 \\cdot cust_{treat}) - 10 \\cdot purch_{ctrl}$$"
   ]
  },
  {
   "cell_type": "code",
   "execution_count": 190,
   "metadata": {},
   "outputs": [
    {
     "name": "stdout",
     "output_type": "stream",
     "text": [
      "IRR:0.00945454781977\n",
      "NIR:-2334.6\n"
     ]
    }
   ],
   "source": [
    "purch_treat = promotion_and_purchase_count[3]\n",
    "cust_treat = promotion_count[1]\n",
    "purch_ctrl = promotion_and_purchase_count[1]\n",
    "cust_ctrl = promotion_count[0]\n",
    "\n",
    "IRR_obs = purch_treat/cust_treat - purch_ctrl/cust_ctrl\n",
    "NIR_obs = (10*purch_treat - 0.15*cust_treat) - 10*purch_ctrl\n",
    "print('IRR:' + str(IRR_obs) )\n",
    "print('NIR:' + str(NIR_obs) )"
   ]
  },
  {
   "cell_type": "markdown",
   "metadata": {},
   "source": [
    "Although the IRR is positive, NIR is negative which indicates that the increased purchase cannot cover the cost. To further investigate this, the following section would conduct an AB test to evaluate the result."
   ]
  },
  {
   "cell_type": "markdown",
   "metadata": {},
   "source": [
    "## Invariant Metric - Number of promotion"
   ]
  },
  {
   "cell_type": "markdown",
   "metadata": {},
   "source": [
    "### The analytic approach:"
   ]
  },
  {
   "cell_type": "code",
   "execution_count": 28,
   "metadata": {},
   "outputs": [
    {
     "name": "stdout",
     "output_type": "stream",
     "text": [
      "Invariant metric does not differ significantly between control and treatment group.\n",
      "z-score = -0.6638\n",
      "p-value = 0.5068\n"
     ]
    }
   ],
   "source": [
    "# get number of trials and number of controls\n",
    "n_obs = train_data.shape[0]\n",
    "n_control = promotion_count[0]\n",
    "\n",
    "# compute a z-score and p-value\n",
    "p = 0.5\n",
    "sd = np.sqrt(p * (1-p) * n_obs)\n",
    "\n",
    "z = ((n_control + 0.5) - p * n_obs) / sd\n",
    "\n",
    "# check for significance\n",
    "if 2 * sp.stats.norm.cdf(z) >= .05:\n",
    "    print('Invariant metric does not differ significantly between control and treatment group.')\n",
    "else:\n",
    "    print('ATTENTION: Invariant metric differs significantly between control and treatment group.')\n",
    "print('z-score = ' + str(\"{:.4f}\".format(z)))\n",
    "print('p-value = ' + str(\"{:.4f}\".format(2 * sp.stats.norm.cdf(z))))"
   ]
  },
  {
   "cell_type": "markdown",
   "metadata": {},
   "source": [
    "### Similation based approach:"
   ]
  },
  {
   "cell_type": "code",
   "execution_count": 20,
   "metadata": {},
   "outputs": [
    {
     "name": "stdout",
     "output_type": "stream",
     "text": [
      "p-value = 0.508\n"
     ]
    }
   ],
   "source": [
    "# get number of trials and number of controls\n",
    "n_obs = train_data.shape[0]\n",
    "n_control = promotion_count[0]\n",
    "\n",
    "p = 0.5\n",
    "n_trials = 200_000\n",
    "samples = np.random.binomial(n_obs, p, n_trials)\n",
    "print('p-value = ' + str(np.logical_or(samples <= n_control, samples >= (n_obs - n_control)).mean()))"
   ]
  },
  {
   "cell_type": "markdown",
   "metadata": {},
   "source": [
    "both p-value greater than 0.05 - the collection of the data was implemented in a correct way!"
   ]
  },
  {
   "cell_type": "markdown",
   "metadata": {},
   "source": [
    "## Evaluation Metric - Purchases Rate"
   ]
  },
  {
   "cell_type": "markdown",
   "metadata": {},
   "source": [
    "H0: IRR<=0; Ha: IRR>0"
   ]
  },
  {
   "cell_type": "markdown",
   "metadata": {},
   "source": [
    "### Analytic Aproach"
   ]
  },
  {
   "cell_type": "code",
   "execution_count": 22,
   "metadata": {},
   "outputs": [
    {
     "name": "stdout",
     "output_type": "stream",
     "text": [
      "Promotion\n",
      "No     0.007565\n",
      "Yes    0.017019\n",
      "Name: purchase, dtype: float64\n"
     ]
    }
   ],
   "source": [
    "# get the purchase rate\n",
    "p_purchase = train_data.groupby('Promotion').mean()['purchase']\n",
    "print(p_purchase)"
   ]
  },
  {
   "cell_type": "code",
   "execution_count": 26,
   "metadata": {},
   "outputs": [],
   "source": [
    "# get number of trials and overall 'success' rate under null\n",
    "n_ctrl = train_data.groupby('Promotion').size()[0]\n",
    "n_treat = train_data.groupby('Promotion').size()[1]\n",
    "p_null = train_data['purchase'].mean()"
   ]
  },
  {
   "cell_type": "code",
   "execution_count": 32,
   "metadata": {},
   "outputs": [
    {
     "name": "stdout",
     "output_type": "stream",
     "text": [
      "Evaluation metric differs significantly between control and treatment group.\n",
      "z-score = 12.4684\n",
      "p-value = 0.0000000000000000000\n"
     ]
    }
   ],
   "source": [
    "# compute standard error, z-score, and p-value\n",
    "se_p = np.sqrt(p_null * (1-p_null) * (1/n_ctrl + 1/n_treat))\n",
    "\n",
    "z = (p_purchase[1] - p_purchase[0]) / se_p\n",
    "\n",
    "# check for significance\n",
    "if 1-sp.stats.norm.cdf(z) >= .05:\n",
    "    print('Evaluation metric does not differ significantly between control and treatment group.')\n",
    "else:\n",
    "    print('Evaluation metric differs significantly between control and treatment group.')\n",
    "print('z-score = ' + str(\"{:.4f}\".format(z)))\n",
    "print('p-value = ' + str(\"{:.19f}\".format(1-sp.stats.norm.cdf(z))))"
   ]
  },
  {
   "cell_type": "markdown",
   "metadata": {},
   "source": [
    "### Simulation Approach"
   ]
  },
  {
   "cell_type": "code",
   "execution_count": 38,
   "metadata": {},
   "outputs": [
    {
     "name": "stdout",
     "output_type": "stream",
     "text": [
      "p-value = 0.0000000000000000000\n"
     ]
    }
   ],
   "source": [
    "n_ctrl = train_data.groupby('Promotion').size()[0]\n",
    "n_treat = train_data.groupby('Promotion').size()[1]\n",
    "p_null = train_data['purchase'].mean()\n",
    "\n",
    "\n",
    "n_trials = 200_000\n",
    "ctrl_purchase = np.random.binomial(n_ctrl, p_null, n_trials)\n",
    "treat_purchase = np.random.binomial(n_treat, p_null, n_trials)\n",
    "samples = treat_purchase / n_treat - ctrl_purchase / n_ctrl\n",
    "\n",
    "print('p-value = ' + str(\"{:.19f}\".format((samples >= (p_purchase[1] - p_purchase[0])).mean())))"
   ]
  },
  {
   "cell_type": "markdown",
   "metadata": {},
   "source": [
    "Both approach validated that the purchase rate will be enchanced. "
   ]
  },
  {
   "cell_type": "markdown",
   "metadata": {},
   "source": [
    "## Non-Parameteric Test on IRR & NIR - Permutation Test"
   ]
  },
  {
   "cell_type": "code",
   "execution_count": 194,
   "metadata": {},
   "outputs": [],
   "source": [
    "def permutation_test(df, label, n_trials = 10_000):\n",
    "    \"\"\"\n",
    "    Compute the upper limit of confidence intervals (to test for metric increase) for IRR & NIR using Bonferroni correction.\n",
    "    \n",
    "    Input arguments:\n",
    "        df: (dataframe) Data to be tested\n",
    "        label: (string) Dimension that should be permuted\n",
    "        permutations: (integer) Randomized permutation trials\n",
    "    \n",
    "    Output:\n",
    "        irr_limit, nir_limit: Upper limits of confidence intervals for IRR & NIR after Bonferroni correction\n",
    "    \"\"\"\n",
    "    \n",
    "    irr_samples = []\n",
    "    nir_samples = []\n",
    "    \n",
    "    for _ in range(n_trials):\n",
    "        # random permutation of label\n",
    "        df[label] = np.random.permutation(df[label])\n",
    "        \n",
    "        # prepare data\n",
    "        promotion_count = df.groupby([label])['ID'].count()\n",
    "        promotion_and_purchase_count = df.groupby([label,'purchase'])['ID'].count()\n",
    "        \n",
    "        purch_treat = promotion_and_purchase_count[3]\n",
    "        cust_treat = promotion_count[1] \n",
    "        purch_ctrl = promotion_and_purchase_count[1]\n",
    "        cust_ctrl = promotion_count[0]\n",
    "        \n",
    "        # mathematical representation of the metrics IRR & NIR\n",
    "        irr_trial = purch_treat / cust_treat - purch_ctrl / cust_ctrl\n",
    "        nir_trial = (10 * purch_treat - 0.15 * cust_treat) - 10 * purch_ctrl\n",
    "\n",
    "        irr_samples.append(irr_trial)\n",
    "        nir_samples.append(nir_trial)\n",
    "    \n",
    "    # one-sided confidence interval with Bonferroni correction:\n",
    "    # overall significance level of 0.05, individual significance level of 0.025\n",
    "    irr_limit = np.percentile(np.array(irr_samples),0.975)\n",
    "    nir_limit = np.percentile(np.array(nir_samples),0.975)\n",
    "    \n",
    "    \n",
    "    if IRR_obs > irr_limit:\n",
    "        print('Incremental response rate (IRR) lies outside of upper confidence limit. It is a significant increment.')\n",
    "    else:\n",
    "        print('Incremental response rate (IRR) lies below upper confidence limit. It is not a significant increment.')\n",
    "    if NIR_obs > nir_limit:\n",
    "        print('Net incremental revenue (NIR) lies outside of upper confidence limit. It is a significant increment.')\n",
    "    else: \n",
    "        print('Net incremental revenue (NIR) lies below upper confidence limit. It is not a significant increment.')\n",
    "    \n",
    "    return irr_limit, nir_limit"
   ]
  },
  {
   "cell_type": "code",
   "execution_count": 196,
   "metadata": {},
   "outputs": [
    {
     "name": "stdout",
     "output_type": "stream",
     "text": [
      "Incremental response rate (IRR) lies outside of upper confidence limit. It is a significant increment.\n",
      "Net incremental revenue (NIR) lies outside of upper confidence limit. It is a significant increment.\n",
      "Upper confidence limit of IRR = -0.00. IRR in dataset = 0.01.\n",
      "Upper confidence limit of NIR = -7094.60. NIR in dataset = -2334.60.\n"
     ]
    }
   ],
   "source": [
    "irr_limit, nir_limit = permutation_test(df=train_data.copy(), label='Promotion')\n",
    "\n",
    "print('Upper confidence limit of IRR = {}. IRR in dataset = {}.'.format(\"{:.2f}\".format(irr_limit), \"{:.2f}\".format(IRR_obs)))\n",
    "print('Upper confidence limit of NIR = {}. NIR in dataset = {}.'.format(\"{:.2f}\".format(nir_limit), \"{:.2f}\".format(NIR_obs)))"
   ]
  },
  {
   "cell_type": "markdown",
   "metadata": {},
   "source": [
    "## Promotion Strategy Optimization"
   ]
  },
  {
   "cell_type": "markdown",
   "metadata": {},
   "source": [
    "The last sections have validated that the IRR is positive with promotion strategies (equivalently, the purchase rate is increased), but the NIR is negative (in the other words, profit is decreased). So, the existed promotion strategy is not acceptable for Starbucks even though it indeed increase the purchase rate. To improve NIR, an optimized promotion strategy can be used. The optimized promotion strategy can select the potential customers who is easily influenced by promotion to send promotion coupons. In this way, Starbucks can reduce the cost of the promotion and possibly make NIR positive. To achieve this, an automatic customer selection filter is required. This section would build up an intelligent classifier to filter customers and NIR will be used to test whether the classifier really work."
   ]
  },
  {
   "cell_type": "markdown",
   "metadata": {},
   "source": [
    "## feature exploration\n",
    "Due to the physical meaning behind the feature are not provided, the statistical meaning need to be explore"
   ]
  },
  {
   "cell_type": "code",
   "execution_count": 8,
   "metadata": {},
   "outputs": [
    {
     "data": {
      "text/plain": [
       "array([[<matplotlib.axes._subplots.AxesSubplot object at 0x7f4143a85438>,\n",
       "        <matplotlib.axes._subplots.AxesSubplot object at 0x7f4143a47780>,\n",
       "        <matplotlib.axes._subplots.AxesSubplot object at 0x7f41439ff7f0>],\n",
       "       [<matplotlib.axes._subplots.AxesSubplot object at 0x7f41439b68d0>,\n",
       "        <matplotlib.axes._subplots.AxesSubplot object at 0x7f41439727f0>,\n",
       "        <matplotlib.axes._subplots.AxesSubplot object at 0x7f4143972828>],\n",
       "       [<matplotlib.axes._subplots.AxesSubplot object at 0x7f41438db550>,\n",
       "        <matplotlib.axes._subplots.AxesSubplot object at 0x7f4143896550>,\n",
       "        <matplotlib.axes._subplots.AxesSubplot object at 0x7f41438505c0>]], dtype=object)"
      ]
     },
     "execution_count": 8,
     "metadata": {},
     "output_type": "execute_result"
    },
    {
     "data": {
      "image/png": "[encoded data removed]",
      "text/plain": [
       "<matplotlib.figure.Figure at 0x7f4145e8b940>"
      ]
     },
     "metadata": {
      "needs_background": "light"
     },
     "output_type": "display_data"
    }
   ],
   "source": [
    "train_data[['V1','V2','V3','V4','V5','V6','V7']].hist(figsize = (20,20))"
   ]
  },
  {
   "cell_type": "markdown",
   "metadata": {},
   "source": [
    "To further investigate the V3, the bins of histogram is sharply increased and the value count are used. "
   ]
  },
  {
   "cell_type": "code",
   "execution_count": 35,
   "metadata": {},
   "outputs": [
    {
     "data": {
      "text/plain": [
       "<matplotlib.axes._subplots.AxesSubplot at 0x7f41420d6eb8>"
      ]
     },
     "execution_count": 35,
     "metadata": {},
     "output_type": "execute_result"
    },
    {
     "data": {
      "image/png": "[encoded data removed]",
      "text/plain": [
       "<matplotlib.figure.Figure at 0x7f4143628fd0>"
      ]
     },
     "metadata": {
      "needs_background": "light"
     },
     "output_type": "display_data"
    }
   ],
   "source": [
    "train_data['V3'].hist(bins=100)"
   ]
  },
  {
   "cell_type": "code",
   "execution_count": 46,
   "metadata": {},
   "outputs": [
    {
     "name": "stdout",
     "output_type": "stream",
     "text": [
      "the number of V3: 40\n",
      "the range of V3 from -1.6845501 to 1.6919836\n"
     ]
    }
   ],
   "source": [
    "sorted_V3_counts = train_data['V3'].value_counts().sort_index(ascending=False)\n",
    "print('the number of V3: ' + str(sorted_V3_counts.shape[0]))\n",
    "print('the range of V3 from ' + str(sorted_V3_counts.index.min()) + ' to ' + str(sorted_V3_counts.index.max()))"
   ]
  },
  {
   "cell_type": "code",
   "execution_count": 42,
   "metadata": {},
   "outputs": [
    {
     "data": {
      "text/plain": [
       "array([ 0.08657779])"
      ]
     },
     "execution_count": 42,
     "metadata": {},
     "output_type": "execute_result"
    }
   ],
   "source": [
    "gap=[]\n",
    "for i in range(len(sorted_V3_counts)-1):\n",
    "    gap.append(sorted_V3_counts.reset_index()['index'].loc[0]-sorted_V3_counts.reset_index()['index'].loc[1])\n",
    "np.unique(gap)"
   ]
  },
  {
   "cell_type": "markdown",
   "metadata": {},
   "source": [
    "V1, V4, V5, V6, V7 are categorical data; V2 is a Gaussian distribution numeric data and V3 is a descrete numeric data with equivalent gap "
   ]
  },
  {
   "cell_type": "markdown",
   "metadata": {},
   "source": [
    "### Correlation Exploration"
   ]
  },
  {
   "cell_type": "code",
   "execution_count": 80,
   "metadata": {},
   "outputs": [],
   "source": [
    "numerilised_train_data = train_data.copy()\n",
    "numerilised_train_data ['Promotion'] = (numerilised_train_data['Promotion']=='Yes').astype(int)"
   ]
  },
  {
   "cell_type": "code",
   "execution_count": 82,
   "metadata": {},
   "outputs": [
    {
     "data": {
      "text/html": [
       "<div>\n",
       "<style scoped>\n",
       "    .dataframe tbody tr th:only-of-type {\n",
       "        vertical-align: middle;\n",
       "    }\n",
       "\n",
       "    .dataframe tbody tr th {\n",
       "        vertical-align: top;\n",
       "    }\n",
       "\n",
       "    .dataframe thead th {\n",
       "        text-align: right;\n",
       "    }\n",
       "</style>\n",
       "<table border=\"1\" class=\"dataframe\">\n",
       "  <thead>\n",
       "    <tr style=\"text-align: right;\">\n",
       "      <th></th>\n",
       "      <th>V1</th>\n",
       "      <th>V2</th>\n",
       "      <th>V3</th>\n",
       "      <th>V4</th>\n",
       "      <th>V5</th>\n",
       "      <th>V6</th>\n",
       "      <th>V7</th>\n",
       "      <th>purchase</th>\n",
       "      <th>Promotion</th>\n",
       "    </tr>\n",
       "  </thead>\n",
       "  <tbody>\n",
       "    <tr>\n",
       "      <th>V1</th>\n",
       "      <td>1.000000</td>\n",
       "      <td>-0.001564</td>\n",
       "      <td>0.003995</td>\n",
       "      <td>0.002568</td>\n",
       "      <td>-0.001196</td>\n",
       "      <td>-0.003672</td>\n",
       "      <td>0.001436</td>\n",
       "      <td>-0.004906</td>\n",
       "      <td>0.005039</td>\n",
       "    </tr>\n",
       "    <tr>\n",
       "      <th>V2</th>\n",
       "      <td>-0.001564</td>\n",
       "      <td>1.000000</td>\n",
       "      <td>0.001165</td>\n",
       "      <td>0.002848</td>\n",
       "      <td>-0.001046</td>\n",
       "      <td>-0.004156</td>\n",
       "      <td>-0.002293</td>\n",
       "      <td>-0.001694</td>\n",
       "      <td>-0.000652</td>\n",
       "    </tr>\n",
       "    <tr>\n",
       "      <th>V3</th>\n",
       "      <td>0.003995</td>\n",
       "      <td>0.001165</td>\n",
       "      <td>1.000000</td>\n",
       "      <td>0.003753</td>\n",
       "      <td>-0.001736</td>\n",
       "      <td>0.004464</td>\n",
       "      <td>0.001135</td>\n",
       "      <td>-0.006395</td>\n",
       "      <td>0.007269</td>\n",
       "    </tr>\n",
       "    <tr>\n",
       "      <th>V4</th>\n",
       "      <td>0.002568</td>\n",
       "      <td>0.002848</td>\n",
       "      <td>0.003753</td>\n",
       "      <td>1.000000</td>\n",
       "      <td>0.003161</td>\n",
       "      <td>0.002552</td>\n",
       "      <td>-0.003176</td>\n",
       "      <td>0.032245</td>\n",
       "      <td>-0.001416</td>\n",
       "    </tr>\n",
       "    <tr>\n",
       "      <th>V5</th>\n",
       "      <td>-0.001196</td>\n",
       "      <td>-0.001046</td>\n",
       "      <td>-0.001736</td>\n",
       "      <td>0.003161</td>\n",
       "      <td>1.000000</td>\n",
       "      <td>-0.003043</td>\n",
       "      <td>0.003571</td>\n",
       "      <td>0.007814</td>\n",
       "      <td>-0.003552</td>\n",
       "    </tr>\n",
       "    <tr>\n",
       "      <th>V6</th>\n",
       "      <td>-0.003672</td>\n",
       "      <td>-0.004156</td>\n",
       "      <td>0.004464</td>\n",
       "      <td>0.002552</td>\n",
       "      <td>-0.003043</td>\n",
       "      <td>1.000000</td>\n",
       "      <td>-0.001398</td>\n",
       "      <td>-0.001538</td>\n",
       "      <td>0.001190</td>\n",
       "    </tr>\n",
       "    <tr>\n",
       "      <th>V7</th>\n",
       "      <td>0.001436</td>\n",
       "      <td>-0.002293</td>\n",
       "      <td>0.001135</td>\n",
       "      <td>-0.003176</td>\n",
       "      <td>0.003571</td>\n",
       "      <td>-0.001398</td>\n",
       "      <td>1.000000</td>\n",
       "      <td>-0.001117</td>\n",
       "      <td>-0.001115</td>\n",
       "    </tr>\n",
       "    <tr>\n",
       "      <th>purchase</th>\n",
       "      <td>-0.004906</td>\n",
       "      <td>-0.001694</td>\n",
       "      <td>-0.006395</td>\n",
       "      <td>0.032245</td>\n",
       "      <td>0.007814</td>\n",
       "      <td>-0.001538</td>\n",
       "      <td>-0.001117</td>\n",
       "      <td>1.000000</td>\n",
       "      <td>0.042884</td>\n",
       "    </tr>\n",
       "    <tr>\n",
       "      <th>Promotion</th>\n",
       "      <td>0.005039</td>\n",
       "      <td>-0.000652</td>\n",
       "      <td>0.007269</td>\n",
       "      <td>-0.001416</td>\n",
       "      <td>-0.003552</td>\n",
       "      <td>0.001190</td>\n",
       "      <td>-0.001115</td>\n",
       "      <td>0.042884</td>\n",
       "      <td>1.000000</td>\n",
       "    </tr>\n",
       "  </tbody>\n",
       "</table>\n",
       "</div>"
      ],
      "text/plain": [
       "                 V1        V2        V3        V4        V5        V6  \\\n",
       "V1         1.000000 -0.001564  0.003995  0.002568 -0.001196 -0.003672   \n",
       "V2        -0.001564  1.000000  0.001165  0.002848 -0.001046 -0.004156   \n",
       "V3         0.003995  0.001165  1.000000  0.003753 -0.001736  0.004464   \n",
       "V4         0.002568  0.002848  0.003753  1.000000  0.003161  0.002552   \n",
       "V5        -0.001196 -0.001046 -0.001736  0.003161  1.000000 -0.003043   \n",
       "V6        -0.003672 -0.004156  0.004464  0.002552 -0.003043  1.000000   \n",
       "V7         0.001436 -0.002293  0.001135 -0.003176  0.003571 -0.001398   \n",
       "purchase  -0.004906 -0.001694 -0.006395  0.032245  0.007814 -0.001538   \n",
       "Promotion  0.005039 -0.000652  0.007269 -0.001416 -0.003552  0.001190   \n",
       "\n",
       "                 V7  purchase  Promotion  \n",
       "V1         0.001436 -0.004906   0.005039  \n",
       "V2        -0.002293 -0.001694  -0.000652  \n",
       "V3         0.001135 -0.006395   0.007269  \n",
       "V4        -0.003176  0.032245  -0.001416  \n",
       "V5         0.003571  0.007814  -0.003552  \n",
       "V6        -0.001398 -0.001538   0.001190  \n",
       "V7         1.000000 -0.001117  -0.001115  \n",
       "purchase  -0.001117  1.000000   0.042884  \n",
       "Promotion -0.001115  0.042884   1.000000  "
      ]
     },
     "execution_count": 82,
     "metadata": {},
     "output_type": "execute_result"
    }
   ],
   "source": [
    "numerilised_train_data[['V1','V2','V3','V4','V5','V6','V7','purchase','Promotion']].corr()"
   ]
  },
  {
   "cell_type": "markdown",
   "metadata": {},
   "source": [
    "The features seem weakly correlated with each other, and V4 seems having largest correlation with purchase but it is still weak correlated. The old promotion strategy does not correlated to any of the features which is slighly correlated with purchase."
   ]
  },
  {
   "cell_type": "markdown",
   "metadata": {},
   "source": [
    "## data preprocess"
   ]
  },
  {
   "cell_type": "code",
   "execution_count": 173,
   "metadata": {},
   "outputs": [],
   "source": [
    "def data_preprocess(df):\n",
    "    # preprocess data including normalization, get_dummies()\n",
    "    categorical_features = pd.get_dummies(data = df[['V1','V4','V5','V6','V7']],columns=['V1','V4','V5','V6','V7'])\n",
    "    normalised_numeric_features = pd.DataFrame(preprocessing.normalize(df[['V2','V3']]), columns=['V2','V3'])\n",
    "    processed_df = pd.concat([normalised_numeric_features, categorical_features],axis=1)\n",
    "    \n",
    "    return processed_df\n",
    "\n",
    "\n",
    "def undersampling(processed_df,labels):\n",
    "    processed_df = pd.concat([processed_df, labels],axis=1)\n",
    "    # undersampling the data - the non-purchase people is significantly larger than purchase group\n",
    "    count_0, count_1 = processed_df['purchase'].value_counts()\n",
    "    # divide by class\n",
    "    df_0 = processed_df[processed_df['purchase']==0]\n",
    "    df_1 = processed_df[processed_df['purchase']==1]\n",
    "\n",
    "    df_0_under = df_0.sample(count_1, random_state=42)\n",
    "    df_under = pd.concat([df_0_under, df_1], axis=0)\n",
    "    \n",
    "    features_under = df_under.drop(['purchase'], axis=1)\n",
    "    labels_under = df_under['purchase']\n",
    "    \n",
    "    return features_under, labels_under\n",
    "\n",
    "def training():\n",
    "    features = train_data.drop(['ID','Promotion','purchase'], axis=1)\n",
    "    labels = train_data['purchase']\n",
    "    \n",
    "    processed_df = data_preprocess(features) \n",
    "    X,y = undersampling(processed_df,labels)\n",
    "    X_train, X_test, y_train, y_test = train_test_split(X, y, test_size=0.33, random_state=42)\n",
    "\n",
    "    # initialize classifier\n",
    "    clf = GradientBoostingClassifier(random_state=42)\n",
    "\n",
    "    # fit classifier\n",
    "    model = clf.fit(X_train, y_train)\n",
    "\n",
    "    # evaluate classifier\n",
    "    accuracy = model.score(X_test,y_test)\n",
    "    print('Accuracy = ' + str(\"{:.2f}\".format(accuracy*100)) + '%')\n",
    "    return model"
   ]
  },
  {
   "cell_type": "code",
   "execution_count": 178,
   "metadata": {},
   "outputs": [],
   "source": [
    "def promotion_strategy(df):\n",
    "    '''\n",
    "    INPUT \n",
    "    df - a dataframe with *only* the columns V1 - V7 (same as train_data)\n",
    "\n",
    "    OUTPUT\n",
    "    promotion_df - np.array with the values\n",
    "                   'Yes' or 'No' related to whether or not an \n",
    "                   individual should recieve a promotion \n",
    "                   should be the length of df.shape[0]\n",
    "                \n",
    "    Ex:\n",
    "    INPUT: df\n",
    "    \n",
    "    V1\tV2\t  V3\tV4\tV5\tV6\tV7\n",
    "    2\t30\t-1.1\t1\t1\t3\t2\n",
    "    3\t32\t-0.6\t2\t3\t2\t2\n",
    "    2\t30\t0.13\t1\t1\t4\t2\n",
    "    \n",
    "    OUTPUT: promotion\n",
    "    \n",
    "    array(['Yes', 'Yes', 'No'])\n",
    "    indicating the first two users would recieve the promotion and \n",
    "    the last should not.\n",
    "    '''\n",
    "    model = training()\n",
    "    promotion = pd.Series(model.predict(data_preprocess(df))).map({0:'No', 1:'Yes'}).values\n",
    "    \n",
    "    return promotion"
   ]
  },
  {
   "cell_type": "code",
   "execution_count": 179,
   "metadata": {},
   "outputs": [
    {
     "name": "stdout",
     "output_type": "stream",
     "text": [
      "Accuracy = 56.48%\n",
      "Nice job!  See how well your strategy worked on our test data below!\n",
      "\n",
      "Your irr with this strategy is 0.0174.\n",
      "\n",
      "Your nir with this strategy is 217.70.\n",
      "We came up with a model with an irr of 0.0188 and an nir of 189.45 on the test set.\n",
      "\n",
      " How did you do?\n"
     ]
    },
    {
     "data": {
      "text/plain": [
       "(0.017375634577496687, 217.70000000000005)"
      ]
     },
     "execution_count": 179,
     "metadata": {},
     "output_type": "execute_result"
    }
   ],
   "source": [
    "# This will test your results, and provide you back some information \n",
    "# on how well your promotion_strategy will work in practice\n",
    "\n",
    "test_results(promotion_strategy)"
   ]
  },
  {
   "cell_type": "markdown",
   "metadata": {},
   "source": [
    "The optimized strategy pass both IRR and NIR which could be a reasonable method to implement!"
   ]
  },
  {
   "cell_type": "code",
   "execution_count": null,
   "metadata": {},
   "outputs": [],
   "source": []
  }
 ],
 "metadata": {
  "kernelspec": {
   "display_name": "Python 3",
   "language": "python",
   "name": "python3"
  },
  "language_info": {
   "codemirror_mode": {
    "name": "ipython",
    "version": 3
   },
   "file_extension": ".py",
   "mimetype": "text/x-python",
   "name": "python",
   "nbconvert_exporter": "python",
   "pygments_lexer": "ipython3",
   "version": "3.6.3"
  }
 },
 "nbformat": 4,
 "nbformat_minor": 2
}
